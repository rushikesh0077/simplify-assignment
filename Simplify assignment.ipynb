{
 "cells": [
  {
   "cell_type": "markdown",
   "metadata": {},
   "source": [
    "### Question 1"
   ]
  },
  {
   "cell_type": "markdown",
   "metadata": {},
   "source": [
    "##### Here I have reversed the number and as per the INR currency first I have extracted last 3 digits and stored in a list the i have extracted next number as in group of 2 digits and strored it in same list then I have reversed each string again in the list and joined the strings with ','"
   ]
  },
  {
   "cell_type": "code",
   "execution_count": 1,
   "metadata": {},
   "outputs": [
    {
     "data": {
      "text/plain": [
       "'5,04,678'"
      ]
     },
     "execution_count": 1,
     "metadata": {},
     "output_type": "execute_result"
    }
   ],
   "source": [
    "def convert_currency(num):\n",
    "    num = str(num)\n",
    "    r_num = num[-1::-1]   \n",
    "    initial = 0\n",
    "    f = 3\n",
    "    lst = []\n",
    "    for i in range(int(len(r_num)/2)):\n",
    "        s_s = r_num[initial:f]\n",
    "        lst.append(s_s)\n",
    "        initial = f\n",
    "        f+=2\n",
    "    final = ','.join([i[-1::-1] for i in lst][::-1])\n",
    "    return final\n",
    "convert_currency(504678)"
   ]
  },
  {
   "cell_type": "markdown",
   "metadata": {},
   "source": [
    "### Question_2"
   ]
  },
  {
   "cell_type": "markdown",
   "metadata": {},
   "source": [
    "##### Here as Gi-Hun and Ali has same height I have counted the number of people who stands in between them has greater height than both Gi-Hun and Ali "
   ]
  },
  {
   "cell_type": "code",
   "execution_count": 98,
   "metadata": {},
   "outputs": [
    {
     "name": "stdout",
     "output_type": "stream",
     "text": [
      "2\n",
      "1\n",
      "0\n"
     ]
    }
   ],
   "source": [
    "def number_of_shots(K,heights):\n",
    "    cnt = 0\n",
    "    for i in heights:\n",
    "        if i > K:\n",
    "            cnt+=1\n",
    "    return cnt\n",
    "\n",
    "T = int(input())\n",
    "if 1 <= T<= 105:\n",
    "    for i in range(T):\n",
    "        N,K = map(int, input().split())\n",
    "        heights = list(map(int, input().split()))\n",
    "        heights = [i for i in heights if 1 <=i <=106]\n",
    "        if (1 <= N <= 105) and  (1 <= K <=106):\n",
    "            res = number_of_shots(K,heights)\n",
    "            print(res)"
   ]
  },
  {
   "cell_type": "code",
   "execution_count": null,
   "metadata": {},
   "outputs": [],
   "source": []
  }
 ],
 "metadata": {
  "kernelspec": {
   "display_name": "Freelancing",
   "language": "python",
   "name": "python3"
  },
  "language_info": {
   "codemirror_mode": {
    "name": "ipython",
    "version": 3
   },
   "file_extension": ".py",
   "mimetype": "text/x-python",
   "name": "python",
   "nbconvert_exporter": "python",
   "pygments_lexer": "ipython3",
   "version": "3.7.16"
  }
 },
 "nbformat": 4,
 "nbformat_minor": 2
}
